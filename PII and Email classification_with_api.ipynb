{
 "cells": [
  {
   "cell_type": "markdown",
   "id": "8e586aaa-704d-40c8-88bd-05bf2543b378",
   "metadata": {},
   "source": [
    "### Email classification and masking"
   ]
  },
  {
   "cell_type": "markdown",
   "id": "dfd9f92a-42b9-4d0f-bd02-c5b80f5bc9ec",
   "metadata": {},
   "source": [
    "#### Importing necessary library"
   ]
  },
  {
   "cell_type": "code",
   "execution_count": 1,
   "id": "d7612b99-f4c0-4669-b972-2af27d795bf7",
   "metadata": {},
   "outputs": [],
   "source": [
    "#Importing necessary library\n",
    "\n",
    "from sklearn.feature_extraction.text import TfidfVectorizer\n",
    "from sklearn.cluster import KMeans\n",
    "import pandas as pd\n",
    "import seaborn as sns\n"
   ]
  },
  {
   "cell_type": "markdown",
   "id": "83cb5df8-c859-4d89-8b87-17209e2466b2",
   "metadata": {},
   "source": [
    "### Load data set¶"
   ]
  },
  {
   "cell_type": "code",
   "execution_count": 2,
   "id": "f263af8e-7719-42be-94b9-0da749501a56",
   "metadata": {},
   "outputs": [
    {
     "data": {
      "text/html": [
       "<div>\n",
       "<style scoped>\n",
       "    .dataframe tbody tr th:only-of-type {\n",
       "        vertical-align: middle;\n",
       "    }\n",
       "\n",
       "    .dataframe tbody tr th {\n",
       "        vertical-align: top;\n",
       "    }\n",
       "\n",
       "    .dataframe thead th {\n",
       "        text-align: right;\n",
       "    }\n",
       "</style>\n",
       "<table border=\"1\" class=\"dataframe\">\n",
       "  <thead>\n",
       "    <tr style=\"text-align: right;\">\n",
       "      <th></th>\n",
       "      <th>email</th>\n",
       "      <th>type</th>\n",
       "    </tr>\n",
       "  </thead>\n",
       "  <tbody>\n",
       "    <tr>\n",
       "      <th>0</th>\n",
       "      <td>Subject: Unvorhergesehener Absturz der Datenan...</td>\n",
       "      <td>Incident</td>\n",
       "    </tr>\n",
       "    <tr>\n",
       "      <th>1</th>\n",
       "      <td>Subject: Customer Support Inquiry\\n\\nSeeking i...</td>\n",
       "      <td>Request</td>\n",
       "    </tr>\n",
       "    <tr>\n",
       "      <th>2</th>\n",
       "      <td>Subject: Data Analytics for Investment\\n\\nI am...</td>\n",
       "      <td>Request</td>\n",
       "    </tr>\n",
       "    <tr>\n",
       "      <th>3</th>\n",
       "      <td>Subject: Krankenhaus-Dienstleistung-Problem\\n\\...</td>\n",
       "      <td>Incident</td>\n",
       "    </tr>\n",
       "    <tr>\n",
       "      <th>4</th>\n",
       "      <td>Subject: Security\\n\\nDear Customer Support, I ...</td>\n",
       "      <td>Request</td>\n",
       "    </tr>\n",
       "  </tbody>\n",
       "</table>\n",
       "</div>"
      ],
      "text/plain": [
       "                                               email      type\n",
       "0  Subject: Unvorhergesehener Absturz der Datenan...  Incident\n",
       "1  Subject: Customer Support Inquiry\\n\\nSeeking i...   Request\n",
       "2  Subject: Data Analytics for Investment\\n\\nI am...   Request\n",
       "3  Subject: Krankenhaus-Dienstleistung-Problem\\n\\...  Incident\n",
       "4  Subject: Security\\n\\nDear Customer Support, I ...   Request"
      ]
     },
     "execution_count": 2,
     "metadata": {},
     "output_type": "execute_result"
    }
   ],
   "source": [
    "## Load data set\n",
    "df=pd.read_csv(\"/Users/amalthomas/Desktop/combined_emails_with_natural_pii.csv\")\n",
    "df.head()"
   ]
  },
  {
   "cell_type": "code",
   "execution_count": 3,
   "id": "2c75a2d8-c31f-4ca1-9551-50207093299a",
   "metadata": {},
   "outputs": [
    {
     "data": {
      "text/plain": [
       "(24000, 2)"
      ]
     },
     "execution_count": 3,
     "metadata": {},
     "output_type": "execute_result"
    }
   ],
   "source": [
    "#Number of rows and columns\n",
    "df.shape"
   ]
  },
  {
   "cell_type": "code",
   "execution_count": 4,
   "id": "ff100be9-d3aa-4383-886a-07543274b677",
   "metadata": {},
   "outputs": [
    {
     "data": {
      "text/plain": [
       "type\n",
       "Incident    9586\n",
       "Request     6860\n",
       "Problem     5037\n",
       "Change      2517\n",
       "Name: count, dtype: int64"
      ]
     },
     "execution_count": 4,
     "metadata": {},
     "output_type": "execute_result"
    }
   ],
   "source": [
    "df['type'].value_counts()"
   ]
  },
  {
   "cell_type": "code",
   "execution_count": 5,
   "id": "2dbdc201-fd3a-4973-a069-973aeab8d1f5",
   "metadata": {},
   "outputs": [
    {
     "data": {
      "text/plain": [
       "<Axes: xlabel='count', ylabel='type'>"
      ]
     },
     "execution_count": 5,
     "metadata": {},
     "output_type": "execute_result"
    },
    {
     "data": {
      "image/png": "[encoded data removed]",
      "text/plain": [
       "<Figure size 640x480 with 1 Axes>"
      ]
     },
     "metadata": {},
     "output_type": "display_data"
    }
   ],
   "source": [
    "sns.countplot(df['type'])"
   ]
  },
  {
   "cell_type": "code",
   "execution_count": 6,
   "id": "8d0a3f62-adeb-43a1-9a2b-6d9ce7f0d8c0",
   "metadata": {},
   "outputs": [
    {
     "data": {
      "text/plain": [
       "0"
      ]
     },
     "execution_count": 6,
     "metadata": {},
     "output_type": "execute_result"
    }
   ],
   "source": [
    "## duplicated data\n",
    "df.duplicated().sum()"
   ]
  },
  {
   "cell_type": "code",
   "execution_count": 7,
   "id": "6a5874cb-6ce3-4b55-a038-36cc37051f43",
   "metadata": {},
   "outputs": [
    {
     "data": {
      "text/plain": [
       "email    0\n",
       "type     0\n",
       "dtype: int64"
      ]
     },
     "execution_count": 7,
     "metadata": {},
     "output_type": "execute_result"
    }
   ],
   "source": [
    "## null values\n",
    "df.isnull().sum()"
   ]
  },
  {
   "cell_type": "code",
   "execution_count": 8,
   "id": "00b29bc5-3cba-4177-b6aa-ea5dc703dab2",
   "metadata": {},
   "outputs": [
    {
     "data": {
      "text/html": [
       "<div>\n",
       "<style scoped>\n",
       "    .dataframe tbody tr th:only-of-type {\n",
       "        vertical-align: middle;\n",
       "    }\n",
       "\n",
       "    .dataframe tbody tr th {\n",
       "        vertical-align: top;\n",
       "    }\n",
       "\n",
       "    .dataframe thead th {\n",
       "        text-align: right;\n",
       "    }\n",
       "</style>\n",
       "<table border=\"1\" class=\"dataframe\">\n",
       "  <thead>\n",
       "    <tr style=\"text-align: right;\">\n",
       "      <th></th>\n",
       "      <th>email</th>\n",
       "      <th>type</th>\n",
       "      <th>subject</th>\n",
       "      <th>body</th>\n",
       "    </tr>\n",
       "  </thead>\n",
       "  <tbody>\n",
       "    <tr>\n",
       "      <th>0</th>\n",
       "      <td>Subject: Unvorhergesehener Absturz der Datenan...</td>\n",
       "      <td>Incident</td>\n",
       "      <td>Subject: Unvorhergesehener Absturz der Datenan...</td>\n",
       "      <td>Die Datenanalyse-Plattform brach unerwartet ab...</td>\n",
       "    </tr>\n",
       "    <tr>\n",
       "      <th>1</th>\n",
       "      <td>Subject: Customer Support Inquiry\\n\\nSeeking i...</td>\n",
       "      <td>Request</td>\n",
       "      <td>Subject: Customer Support Inquiry</td>\n",
       "      <td>Seeking information on digital strategies that...</td>\n",
       "    </tr>\n",
       "    <tr>\n",
       "      <th>2</th>\n",
       "      <td>Subject: Data Analytics for Investment\\n\\nI am...</td>\n",
       "      <td>Request</td>\n",
       "      <td>Subject: Data Analytics for Investment</td>\n",
       "      <td>I am contacting you to request information on ...</td>\n",
       "    </tr>\n",
       "    <tr>\n",
       "      <th>3</th>\n",
       "      <td>Subject: Krankenhaus-Dienstleistung-Problem\\n\\...</td>\n",
       "      <td>Incident</td>\n",
       "      <td>Subject: Krankenhaus-Dienstleistung-Problem</td>\n",
       "      <td>Ein Medien-Daten-Sperrverhalten trat aufgrund ...</td>\n",
       "    </tr>\n",
       "    <tr>\n",
       "      <th>4</th>\n",
       "      <td>Subject: Security\\n\\nDear Customer Support, I ...</td>\n",
       "      <td>Request</td>\n",
       "      <td>Subject: Security</td>\n",
       "      <td>Dear Customer Support, I am reaching out to in...</td>\n",
       "    </tr>\n",
       "  </tbody>\n",
       "</table>\n",
       "</div>"
      ],
      "text/plain": [
       "                                               email      type  \\\n",
       "0  Subject: Unvorhergesehener Absturz der Datenan...  Incident   \n",
       "1  Subject: Customer Support Inquiry\\n\\nSeeking i...   Request   \n",
       "2  Subject: Data Analytics for Investment\\n\\nI am...   Request   \n",
       "3  Subject: Krankenhaus-Dienstleistung-Problem\\n\\...  Incident   \n",
       "4  Subject: Security\\n\\nDear Customer Support, I ...   Request   \n",
       "\n",
       "                                             subject  \\\n",
       "0  Subject: Unvorhergesehener Absturz der Datenan...   \n",
       "1                  Subject: Customer Support Inquiry   \n",
       "2             Subject: Data Analytics for Investment   \n",
       "3        Subject: Krankenhaus-Dienstleistung-Problem   \n",
       "4                                  Subject: Security   \n",
       "\n",
       "                                                body  \n",
       "0  Die Datenanalyse-Plattform brach unerwartet ab...  \n",
       "1  Seeking information on digital strategies that...  \n",
       "2  I am contacting you to request information on ...  \n",
       "3  Ein Medien-Daten-Sperrverhalten trat aufgrund ...  \n",
       "4  Dear Customer Support, I am reaching out to in...  "
      ]
     },
     "execution_count": 8,
     "metadata": {},
     "output_type": "execute_result"
    }
   ],
   "source": [
    "# Split into subject and body using newline\n",
    "def split_subject_and_body(text):\n",
    "    lines = str(text).split('\\n', 1)\n",
    "    subject = lines[0].strip()\n",
    "    body = lines[1].strip() if len(lines) > 1 else ''\n",
    "    return pd.Series([subject, body])\n",
    "\n",
    "# Apply to your column (replace 'subject_body' with the actual column name)\n",
    "df[['subject', 'body']] = df['email'].apply(split_subject_and_body)\n",
    "df.head()"
   ]
  },
  {
   "cell_type": "markdown",
   "id": "ea8bc5eb-3acd-4649-8e74-eeea87cbbaf9",
   "metadata": {},
   "source": [
    "### Masking sensitive data"
   ]
  },
  {
   "cell_type": "code",
   "execution_count": 9,
   "id": "69d9ddf2-0a9d-4aed-a350-6535306e1fd6",
   "metadata": {},
   "outputs": [],
   "source": [
    "import re\n",
    "\n",
    "def mask_pii_pci(text: str):\n",
    "    patterns = {\n",
    "        \"full_name\": r\"\\b([A-Z][a-z]+(?:\\s[A-Z][a-z]+)+)\\b\",\n",
    "        \"email\": r\"\\b[A-Za-z0-9._%+-]+@[A-Za-z0-9.-]+\\.[A-Za-z]{2,}\\b\",\n",
    "        \"phone_number\": r\"\\b(?:\\+91[\\-\\s]?)?[6-9]\\d{9}\\b\",\n",
    "        \"dob\": r\"\\b(?:\\d{1,2}[\\/\\-]){2}\\d{2,4}\\b\",\n",
    "        \"aadhar_num\": r\"\\b\\d{4}[\\s-]?\\d{4}[\\s-]?\\d{4}\\b\",\n",
    "        \"credit_debit_no\": r\"\\b(?:\\d[ -]*?){13,16}\\b\",\n",
    "        \"cvv_no\": r\"\\b\\d{3}\\b\",\n",
    "        \"expiry_no\": r\"\\b(0[1-9]|1[0-2])[\\/\\-]?\\d{2,4}\\b\",\n",
    "    }\n",
    "\n",
    "    entities = []\n",
    "    masked_text = text\n",
    "    offset = 0  # To keep track of character shifts due to masking\n",
    "\n",
    "    for entity_name, pattern in patterns.items():\n",
    "        for match in re.finditer(pattern, masked_text):\n",
    "            start = match.start()\n",
    "            end = match.end()\n",
    "            entity_text = match.group(0)\n",
    "\n",
    "            # Adjust start and end with current offset\n",
    "            adjusted_start = start + offset\n",
    "            adjusted_end = end + offset\n",
    "\n",
    "            # Create masked version\n",
    "            replacement = f\"[{entity_name}]\"\n",
    "            shift = len(replacement) - len(entity_text)\n",
    "            offset += shift\n",
    "\n",
    "            # Replace entity in masked text (once, at the current match only)\n",
    "            masked_text = masked_text[:start] + replacement + masked_text[end:]\n",
    "\n",
    "            entities.append({\n",
    "                \"position\": [start, start + len(replacement)],\n",
    "                \"classification\": entity_name,\n",
    "                \"entity\": entity_text\n",
    "            })\n",
    "\n",
    "    return masked_text, entities\n",
    "df['masked_email_text'] = df['body'].apply(lambda x: mask_pii_pci(x)[0])"
   ]
  },
  {
   "cell_type": "code",
   "execution_count": 10,
   "id": "72616e34-b7da-41fe-82de-3064c5ba256b",
   "metadata": {},
   "outputs": [],
   "source": [
    "##1. Refactor Your Function for Pipeline Use\n",
    "##Currently, your function works on a single string. Let's wrap it so it works on a whole pandas column (like .apply()):\n",
    "\n",
    "def mask_pii_column(series):\n",
    "    return series.apply(mask_pii_pci)\n",
    "\n",
    "from sklearn.preprocessing import FunctionTransformer\n",
    "masking_transformer = FunctionTransformer(mask_pii_column)\n",
    "\n"
   ]
  },
  {
   "cell_type": "markdown",
   "id": "9107bb3a-353b-4a78-aee0-984390264822",
   "metadata": {},
   "source": [
    "### Categorizing the emails¶"
   ]
  },
  {
   "cell_type": "code",
   "execution_count": 11,
   "id": "3fbfa3d2-f959-445c-ae43-4165668265b1",
   "metadata": {},
   "outputs": [],
   "source": [
    "# Define rule-based labeling function\n",
    "def categorize_email(text):\n",
    "    #text = text.lower()\n",
    "    if any(word in text for word in ['billing', 'invoice', 'charge', 'refund', 'payment','overcharged','transaction']):\n",
    "        return 'Billing Issues'\n",
    "    elif any(word in text for word in ['account', 'login', 'reset', 'password', 'username','change email','profile','personal info']):\n",
    "        return 'Account Management'\n",
    "    elif any(word in text for word in ['crash', 'bug', 'issue', 'error', 'not working','failed','glitch','connection','API down']):  \n",
    "        return 'Technical Support'\n",
    "    elif any(word in text for word in ['product info','features','specifications','how does it work','demo','trial']):\n",
    "        return 'Product Enquiries'\n",
    "    elif any(word in text for word in ['tracking','delayed','order not received','delivery','shipping status','wrong item']):\n",
    "        return 'Shipping & Delivery'\n",
    "    elif any(word in text for word in ['cancel subscription','stop service','end membership','unsubscribe','discontinue']):\n",
    "        return 'Cancellation Request'\n",
    "    elif any(word in text for word in ['question','need help','assistance','contact','customer service']):\n",
    "        return 'General Inquiry'\n",
    "    elif any(word in text for word in ['suggestion','feedback','review','opinion','experience','comment']):\n",
    "        return 'Feedback'\n",
    "    elif any(word in text for word in ['privacy','GDPR','terms of service','copyright','policy','legal']):\n",
    "        return 'Legal & Compliance'\n",
    "    else:\n",
    "        return 'Other'\n",
    "\n",
    "# Apply rule to generate labels\n",
    "df['category'] = df['masked_email_text'].apply(categorize_email)"
   ]
  },
  {
   "cell_type": "markdown",
   "id": "df0f8a74-c789-4ba1-b834-fabbc32ce36a",
   "metadata": {},
   "source": [
    "### Train-Test Split"
   ]
  },
  {
   "cell_type": "code",
   "execution_count": 12,
   "id": "4f438cc4-b7c4-4950-9335-6e24c5362e8e",
   "metadata": {},
   "outputs": [
    {
     "data": {
      "text/plain": [
       "(19200,)"
      ]
     },
     "execution_count": 12,
     "metadata": {},
     "output_type": "execute_result"
    }
   ],
   "source": [
    "from sklearn.model_selection import train_test_split\n",
    "\n",
    "\n",
    "X_train, X_test, y_train, y_test = train_test_split(df['masked_email_text'], df['category'], test_size=0.2, random_state=42)\n",
    "\n",
    "X_train.shape"
   ]
  },
  {
   "cell_type": "code",
   "execution_count": 13,
   "id": "5bc89b57-9844-4c01-8202-192fce3b246a",
   "metadata": {},
   "outputs": [
    {
     "data": {
      "text/plain": [
       "(4800,)"
      ]
     },
     "execution_count": 13,
     "metadata": {},
     "output_type": "execute_result"
    }
   ],
   "source": [
    "X_test.shape"
   ]
  },
  {
   "cell_type": "code",
   "execution_count": 14,
   "id": "c2551838-4db6-45ca-b530-3bc5ef56ca73",
   "metadata": {},
   "outputs": [
    {
     "data": {
      "text/plain": [
       "(19200,)"
      ]
     },
     "execution_count": 14,
     "metadata": {},
     "output_type": "execute_result"
    }
   ],
   "source": [
    "y_train.shape"
   ]
  },
  {
   "cell_type": "code",
   "execution_count": 15,
   "id": "75c6ad3a-4fe1-4886-846e-0ecfe085f009",
   "metadata": {},
   "outputs": [
    {
     "data": {
      "text/plain": [
       "(4800,)"
      ]
     },
     "execution_count": 15,
     "metadata": {},
     "output_type": "execute_result"
    }
   ],
   "source": [
    "y_test.shape"
   ]
  },
  {
   "cell_type": "markdown",
   "id": "6581dd5e-2687-478e-93d1-22555db9780e",
   "metadata": {},
   "source": [
    "### Preprocessing and training ml algorithm "
   ]
  },
  {
   "cell_type": "code",
   "execution_count": 16,
   "id": "f3281381-c91f-4cbc-b6b2-b61ed82b208e",
   "metadata": {},
   "outputs": [
    {
     "data": {
      "text/html": [
       "<style>#sk-container-id-1 {\n",
       "  /* Definition of color scheme common for light and dark mode */\n",
       "  --sklearn-color-text: black;\n",
       "  --sklearn-color-line: gray;\n",
       "  /* Definition of color scheme for unfitted estimators */\n",
       "  --sklearn-color-unfitted-level-0: #fff5e6;\n",
       "  --sklearn-color-unfitted-level-1: #f6e4d2;\n",
       "  --sklearn-color-unfitted-level-2: #ffe0b3;\n",
       "  --sklearn-color-unfitted-level-3: chocolate;\n",
       "  /* Definition of color scheme for fitted estimators */\n",
       "  --sklearn-color-fitted-level-0: #f0f8ff;\n",
       "  --sklearn-color-fitted-level-1: #d4ebff;\n",
       "  --sklearn-color-fitted-level-2: #b3dbfd;\n",
       "  --sklearn-color-fitted-level-3: cornflowerblue;\n",
       "\n",
       "  /* Specific color for light theme */\n",
       "  --sklearn-color-text-on-default-background: var(--sg-text-color, var(--theme-code-foreground, var(--jp-content-font-color1, black)));\n",
       "  --sklearn-color-background: var(--sg-background-color, var(--theme-background, var(--jp-layout-color0, white)));\n",
       "  --sklearn-color-border-box: var(--sg-text-color, var(--theme-code-foreground, var(--jp-content-font-color1, black)));\n",
       "  --sklearn-color-icon: #696969;\n",
       "\n",
       "  @media (prefers-color-scheme: dark) {\n",
       "    /* Redefinition of color scheme for dark theme */\n",
       "    --sklearn-color-text-on-default-background: var(--sg-text-color, var(--theme-code-foreground, var(--jp-content-font-color1, white)));\n",
       "    --sklearn-color-background: var(--sg-background-color, var(--theme-background, var(--jp-layout-color0, #111)));\n",
       "    --sklearn-color-border-box: var(--sg-text-color, var(--theme-code-foreground, var(--jp-content-font-color1, white)));\n",
       "    --sklearn-color-icon: #878787;\n",
       "  }\n",
       "}\n",
       "\n",
       "#sk-container-id-1 {\n",
       "  color: var(--sklearn-color-text);\n",
       "}\n",
       "\n",
       "#sk-container-id-1 pre {\n",
       "  padding: 0;\n",
       "}\n",
       "\n",
       "#sk-container-id-1 input.sk-hidden--visually {\n",
       "  border: 0;\n",
       "  clip: rect(1px 1px 1px 1px);\n",
       "  clip: rect(1px, 1px, 1px, 1px);\n",
       "  height: 1px;\n",
       "  margin: -1px;\n",
       "  overflow: hidden;\n",
       "  padding: 0;\n",
       "  position: absolute;\n",
       "  width: 1px;\n",
       "}\n",
       "\n",
       "#sk-container-id-1 div.sk-dashed-wrapped {\n",
       "  border: 1px dashed var(--sklearn-color-line);\n",
       "  margin: 0 0.4em 0.5em 0.4em;\n",
       "  box-sizing: border-box;\n",
       "  padding-bottom: 0.4em;\n",
       "  background-color: var(--sklearn-color-background);\n",
       "}\n",
       "\n",
       "#sk-container-id-1 div.sk-container {\n",
       "  /* jupyter's `normalize.less` sets `[hidden] { display: none; }`\n",
       "     but bootstrap.min.css set `[hidden] { display: none !important; }`\n",
       "     so we also need the `!important` here to be able to override the\n",
       "     default hidden behavior on the sphinx rendered scikit-learn.org.\n",
       "     See: https://github.com/scikit-learn/scikit-learn/issues/21755 */\n",
       "  display: inline-block !important;\n",
       "  position: relative;\n",
       "}\n",
       "\n",
       "#sk-container-id-1 div.sk-text-repr-fallback {\n",
       "  display: none;\n",
       "}\n",
       "\n",
       "div.sk-parallel-item,\n",
       "div.sk-serial,\n",
       "div.sk-item {\n",
       "  /* draw centered vertical line to link estimators */\n",
       "  background-image: linear-gradient(var(--sklearn-color-text-on-default-background), var(--sklearn-color-text-on-default-background));\n",
       "  background-size: 2px 100%;\n",
       "  background-repeat: no-repeat;\n",
       "  background-position: center center;\n",
       "}\n",
       "\n",
       "/* Parallel-specific style estimator block */\n",
       "\n",
       "#sk-container-id-1 div.sk-parallel-item::after {\n",
       "  content: \"\";\n",
       "  width: 100%;\n",
       "  border-bottom: 2px solid var(--sklearn-color-text-on-default-background);\n",
       "  flex-grow: 1;\n",
       "}\n",
       "\n",
       "#sk-container-id-1 div.sk-parallel {\n",
       "  display: flex;\n",
       "  align-items: stretch;\n",
       "  justify-content: center;\n",
       "  background-color: var(--sklearn-color-background);\n",
       "  position: relative;\n",
       "}\n",
       "\n",
       "#sk-container-id-1 div.sk-parallel-item {\n",
       "  display: flex;\n",
       "  flex-direction: column;\n",
       "}\n",
       "\n",
       "#sk-container-id-1 div.sk-parallel-item:first-child::after {\n",
       "  align-self: flex-end;\n",
       "  width: 50%;\n",
       "}\n",
       "\n",
       "#sk-container-id-1 div.sk-parallel-item:last-child::after {\n",
       "  align-self: flex-start;\n",
       "  width: 50%;\n",
       "}\n",
       "\n",
       "#sk-container-id-1 div.sk-parallel-item:only-child::after {\n",
       "  width: 0;\n",
       "}\n",
       "\n",
       "/* Serial-specific style estimator block */\n",
       "\n",
       "#sk-container-id-1 div.sk-serial {\n",
       "  display: flex;\n",
       "  flex-direction: column;\n",
       "  align-items: center;\n",
       "  background-color: var(--sklearn-color-background);\n",
       "  padding-right: 1em;\n",
       "  padding-left: 1em;\n",
       "}\n",
       "\n",
       "\n",
       "/* Toggleable style: style used for estimator/Pipeline/ColumnTransformer box that is\n",
       "clickable and can be expanded/collapsed.\n",
       "- Pipeline and ColumnTransformer use this feature and define the default style\n",
       "- Estimators will overwrite some part of the style using the `sk-estimator` class\n",
       "*/\n",
       "\n",
       "/* Pipeline and ColumnTransformer style (default) */\n",
       "\n",
       "#sk-container-id-1 div.sk-toggleable {\n",
       "  /* Default theme specific background. It is overwritten whether we have a\n",
       "  specific estimator or a Pipeline/ColumnTransformer */\n",
       "  background-color: var(--sklearn-color-background);\n",
       "}\n",
       "\n",
       "/* Toggleable label */\n",
       "#sk-container-id-1 label.sk-toggleable__label {\n",
       "  cursor: pointer;\n",
       "  display: block;\n",
       "  width: 100%;\n",
       "  margin-bottom: 0;\n",
       "  padding: 0.5em;\n",
       "  box-sizing: border-box;\n",
       "  text-align: center;\n",
       "}\n",
       "\n",
       "#sk-container-id-1 label.sk-toggleable__label-arrow:before {\n",
       "  /* Arrow on the left of the label */\n",
       "  content: \"▸\";\n",
       "  float: left;\n",
       "  margin-right: 0.25em;\n",
       "  color: var(--sklearn-color-icon);\n",
       "}\n",
       "\n",
       "#sk-container-id-1 label.sk-toggleable__label-arrow:hover:before {\n",
       "  color: var(--sklearn-color-text);\n",
       "}\n",
       "\n",
       "/* Toggleable content - dropdown */\n",
       "\n",
       "#sk-container-id-1 div.sk-toggleable__content {\n",
       "  max-height: 0;\n",
       "  max-width: 0;\n",
       "  overflow: hidden;\n",
       "  text-align: left;\n",
       "  /* unfitted */\n",
       "  background-color: var(--sklearn-color-unfitted-level-0);\n",
       "}\n",
       "\n",
       "#sk-container-id-1 div.sk-toggleable__content.fitted {\n",
       "  /* fitted */\n",
       "  background-color: var(--sklearn-color-fitted-level-0);\n",
       "}\n",
       "\n",
       "#sk-container-id-1 div.sk-toggleable__content pre {\n",
       "  margin: 0.2em;\n",
       "  border-radius: 0.25em;\n",
       "  color: var(--sklearn-color-text);\n",
       "  /* unfitted */\n",
       "  background-color: var(--sklearn-color-unfitted-level-0);\n",
       "}\n",
       "\n",
       "#sk-container-id-1 div.sk-toggleable__content.fitted pre {\n",
       "  /* unfitted */\n",
       "  background-color: var(--sklearn-color-fitted-level-0);\n",
       "}\n",
       "\n",
       "#sk-container-id-1 input.sk-toggleable__control:checked~div.sk-toggleable__content {\n",
       "  /* Expand drop-down */\n",
       "  max-height: 200px;\n",
       "  max-width: 100%;\n",
       "  overflow: auto;\n",
       "}\n",
       "\n",
       "#sk-container-id-1 input.sk-toggleable__control:checked~label.sk-toggleable__label-arrow:before {\n",
       "  content: \"▾\";\n",
       "}\n",
       "\n",
       "/* Pipeline/ColumnTransformer-specific style */\n",
       "\n",
       "#sk-container-id-1 div.sk-label input.sk-toggleable__control:checked~label.sk-toggleable__label {\n",
       "  color: var(--sklearn-color-text);\n",
       "  background-color: var(--sklearn-color-unfitted-level-2);\n",
       "}\n",
       "\n",
       "#sk-container-id-1 div.sk-label.fitted input.sk-toggleable__control:checked~label.sk-toggleable__label {\n",
       "  background-color: var(--sklearn-color-fitted-level-2);\n",
       "}\n",
       "\n",
       "/* Estimator-specific style */\n",
       "\n",
       "/* Colorize estimator box */\n",
       "#sk-container-id-1 div.sk-estimator input.sk-toggleable__control:checked~label.sk-toggleable__label {\n",
       "  /* unfitted */\n",
       "  background-color: var(--sklearn-color-unfitted-level-2);\n",
       "}\n",
       "\n",
       "#sk-container-id-1 div.sk-estimator.fitted input.sk-toggleable__control:checked~label.sk-toggleable__label {\n",
       "  /* fitted */\n",
       "  background-color: var(--sklearn-color-fitted-level-2);\n",
       "}\n",
       "\n",
       "#sk-container-id-1 div.sk-label label.sk-toggleable__label,\n",
       "#sk-container-id-1 div.sk-label label {\n",
       "  /* The background is the default theme color */\n",
       "  color: var(--sklearn-color-text-on-default-background);\n",
       "}\n",
       "\n",
       "/* On hover, darken the color of the background */\n",
       "#sk-container-id-1 div.sk-label:hover label.sk-toggleable__label {\n",
       "  color: var(--sklearn-color-text);\n",
       "  background-color: var(--sklearn-color-unfitted-level-2);\n",
       "}\n",
       "\n",
       "/* Label box, darken color on hover, fitted */\n",
       "#sk-container-id-1 div.sk-label.fitted:hover label.sk-toggleable__label.fitted {\n",
       "  color: var(--sklearn-color-text);\n",
       "  background-color: var(--sklearn-color-fitted-level-2);\n",
       "}\n",
       "\n",
       "/* Estimator label */\n",
       "\n",
       "#sk-container-id-1 div.sk-label label {\n",
       "  font-family: monospace;\n",
       "  font-weight: bold;\n",
       "  display: inline-block;\n",
       "  line-height: 1.2em;\n",
       "}\n",
       "\n",
       "#sk-container-id-1 div.sk-label-container {\n",
       "  text-align: center;\n",
       "}\n",
       "\n",
       "/* Estimator-specific */\n",
       "#sk-container-id-1 div.sk-estimator {\n",
       "  font-family: monospace;\n",
       "  border: 1px dotted var(--sklearn-color-border-box);\n",
       "  border-radius: 0.25em;\n",
       "  box-sizing: border-box;\n",
       "  margin-bottom: 0.5em;\n",
       "  /* unfitted */\n",
       "  background-color: var(--sklearn-color-unfitted-level-0);\n",
       "}\n",
       "\n",
       "#sk-container-id-1 div.sk-estimator.fitted {\n",
       "  /* fitted */\n",
       "  background-color: var(--sklearn-color-fitted-level-0);\n",
       "}\n",
       "\n",
       "/* on hover */\n",
       "#sk-container-id-1 div.sk-estimator:hover {\n",
       "  /* unfitted */\n",
       "  background-color: var(--sklearn-color-unfitted-level-2);\n",
       "}\n",
       "\n",
       "#sk-container-id-1 div.sk-estimator.fitted:hover {\n",
       "  /* fitted */\n",
       "  background-color: var(--sklearn-color-fitted-level-2);\n",
       "}\n",
       "\n",
       "/* Specification for estimator info (e.g. \"i\" and \"?\") */\n",
       "\n",
       "/* Common style for \"i\" and \"?\" */\n",
       "\n",
       ".sk-estimator-doc-link,\n",
       "a:link.sk-estimator-doc-link,\n",
       "a:visited.sk-estimator-doc-link {\n",
       "  float: right;\n",
       "  font-size: smaller;\n",
       "  line-height: 1em;\n",
       "  font-family: monospace;\n",
       "  background-color: var(--sklearn-color-background);\n",
       "  border-radius: 1em;\n",
       "  height: 1em;\n",
       "  width: 1em;\n",
       "  text-decoration: none !important;\n",
       "  margin-left: 1ex;\n",
       "  /* unfitted */\n",
       "  border: var(--sklearn-color-unfitted-level-1) 1pt solid;\n",
       "  color: var(--sklearn-color-unfitted-level-1);\n",
       "}\n",
       "\n",
       ".sk-estimator-doc-link.fitted,\n",
       "a:link.sk-estimator-doc-link.fitted,\n",
       "a:visited.sk-estimator-doc-link.fitted {\n",
       "  /* fitted */\n",
       "  border: var(--sklearn-color-fitted-level-1) 1pt solid;\n",
       "  color: var(--sklearn-color-fitted-level-1);\n",
       "}\n",
       "\n",
       "/* On hover */\n",
       "div.sk-estimator:hover .sk-estimator-doc-link:hover,\n",
       ".sk-estimator-doc-link:hover,\n",
       "div.sk-label-container:hover .sk-estimator-doc-link:hover,\n",
       ".sk-estimator-doc-link:hover {\n",
       "  /* unfitted */\n",
       "  background-color: var(--sklearn-color-unfitted-level-3);\n",
       "  color: var(--sklearn-color-background);\n",
       "  text-decoration: none;\n",
       "}\n",
       "\n",
       "div.sk-estimator.fitted:hover .sk-estimator-doc-link.fitted:hover,\n",
       ".sk-estimator-doc-link.fitted:hover,\n",
       "div.sk-label-container:hover .sk-estimator-doc-link.fitted:hover,\n",
       ".sk-estimator-doc-link.fitted:hover {\n",
       "  /* fitted */\n",
       "  background-color: var(--sklearn-color-fitted-level-3);\n",
       "  color: var(--sklearn-color-background);\n",
       "  text-decoration: none;\n",
       "}\n",
       "\n",
       "/* Span, style for the box shown on hovering the info icon */\n",
       ".sk-estimator-doc-link span {\n",
       "  display: none;\n",
       "  z-index: 9999;\n",
       "  position: relative;\n",
       "  font-weight: normal;\n",
       "  right: .2ex;\n",
       "  padding: .5ex;\n",
       "  margin: .5ex;\n",
       "  width: min-content;\n",
       "  min-width: 20ex;\n",
       "  max-width: 50ex;\n",
       "  color: var(--sklearn-color-text);\n",
       "  box-shadow: 2pt 2pt 4pt #999;\n",
       "  /* unfitted */\n",
       "  background: var(--sklearn-color-unfitted-level-0);\n",
       "  border: .5pt solid var(--sklearn-color-unfitted-level-3);\n",
       "}\n",
       "\n",
       ".sk-estimator-doc-link.fitted span {\n",
       "  /* fitted */\n",
       "  background: var(--sklearn-color-fitted-level-0);\n",
       "  border: var(--sklearn-color-fitted-level-3);\n",
       "}\n",
       "\n",
       ".sk-estimator-doc-link:hover span {\n",
       "  display: block;\n",
       "}\n",
       "\n",
       "/* \"?\"-specific style due to the `<a>` HTML tag */\n",
       "\n",
       "#sk-container-id-1 a.estimator_doc_link {\n",
       "  float: right;\n",
       "  font-size: 1rem;\n",
       "  line-height: 1em;\n",
       "  font-family: monospace;\n",
       "  background-color: var(--sklearn-color-background);\n",
       "  border-radius: 1rem;\n",
       "  height: 1rem;\n",
       "  width: 1rem;\n",
       "  text-decoration: none;\n",
       "  /* unfitted */\n",
       "  color: var(--sklearn-color-unfitted-level-1);\n",
       "  border: var(--sklearn-color-unfitted-level-1) 1pt solid;\n",
       "}\n",
       "\n",
       "#sk-container-id-1 a.estimator_doc_link.fitted {\n",
       "  /* fitted */\n",
       "  border: var(--sklearn-color-fitted-level-1) 1pt solid;\n",
       "  color: var(--sklearn-color-fitted-level-1);\n",
       "}\n",
       "\n",
       "/* On hover */\n",
       "#sk-container-id-1 a.estimator_doc_link:hover {\n",
       "  /* unfitted */\n",
       "  background-color: var(--sklearn-color-unfitted-level-3);\n",
       "  color: var(--sklearn-color-background);\n",
       "  text-decoration: none;\n",
       "}\n",
       "\n",
       "#sk-container-id-1 a.estimator_doc_link.fitted:hover {\n",
       "  /* fitted */\n",
       "  background-color: var(--sklearn-color-fitted-level-3);\n",
       "}\n",
       "</style><div id=\"sk-container-id-1\" class=\"sk-top-container\"><div class=\"sk-text-repr-fallback\"><pre>Pipeline(steps=[(&#x27;tfidfvectorizer&#x27;,\n",
       "                 TfidfVectorizer(max_features=20000, stop_words=&#x27;english&#x27;)),\n",
       "                (&#x27;linearsvc&#x27;, LinearSVC())])</pre><b>In a Jupyter environment, please rerun this cell to show the HTML representation or trust the notebook. <br />On GitHub, the HTML representation is unable to render, please try loading this page with nbviewer.org.</b></div><div class=\"sk-container\" hidden><div class=\"sk-item sk-dashed-wrapped\"><div class=\"sk-label-container\"><div class=\"sk-label fitted sk-toggleable\"><input class=\"sk-toggleable__control sk-hidden--visually\" id=\"sk-estimator-id-1\" type=\"checkbox\" ><label for=\"sk-estimator-id-1\" class=\"sk-toggleable__label fitted sk-toggleable__label-arrow fitted\">&nbsp;&nbsp;Pipeline<a class=\"sk-estimator-doc-link fitted\" rel=\"noreferrer\" target=\"_blank\" href=\"https://scikit-learn.org/1.5/modules/generated/sklearn.pipeline.Pipeline.html\">?<span>Documentation for Pipeline</span></a><span class=\"sk-estimator-doc-link fitted\">i<span>Fitted</span></span></label><div class=\"sk-toggleable__content fitted\"><pre>Pipeline(steps=[(&#x27;tfidfvectorizer&#x27;,\n",
       "                 TfidfVectorizer(max_features=20000, stop_words=&#x27;english&#x27;)),\n",
       "                (&#x27;linearsvc&#x27;, LinearSVC())])</pre></div> </div></div><div class=\"sk-serial\"><div class=\"sk-item\"><div class=\"sk-estimator fitted sk-toggleable\"><input class=\"sk-toggleable__control sk-hidden--visually\" id=\"sk-estimator-id-2\" type=\"checkbox\" ><label for=\"sk-estimator-id-2\" class=\"sk-toggleable__label fitted sk-toggleable__label-arrow fitted\">&nbsp;TfidfVectorizer<a class=\"sk-estimator-doc-link fitted\" rel=\"noreferrer\" target=\"_blank\" href=\"https://scikit-learn.org/1.5/modules/generated/sklearn.feature_extraction.text.TfidfVectorizer.html\">?<span>Documentation for TfidfVectorizer</span></a></label><div class=\"sk-toggleable__content fitted\"><pre>TfidfVectorizer(max_features=20000, stop_words=&#x27;english&#x27;)</pre></div> </div></div><div class=\"sk-item\"><div class=\"sk-estimator fitted sk-toggleable\"><input class=\"sk-toggleable__control sk-hidden--visually\" id=\"sk-estimator-id-3\" type=\"checkbox\" ><label for=\"sk-estimator-id-3\" class=\"sk-toggleable__label fitted sk-toggleable__label-arrow fitted\">&nbsp;LinearSVC<a class=\"sk-estimator-doc-link fitted\" rel=\"noreferrer\" target=\"_blank\" href=\"https://scikit-learn.org/1.5/modules/generated/sklearn.svm.LinearSVC.html\">?<span>Documentation for LinearSVC</span></a></label><div class=\"sk-toggleable__content fitted\"><pre>LinearSVC()</pre></div> </div></div></div></div></div></div>"
      ],
      "text/plain": [
       "Pipeline(steps=[('tfidfvectorizer',\n",
       "                 TfidfVectorizer(max_features=20000, stop_words='english')),\n",
       "                ('linearsvc', LinearSVC())])"
      ]
     },
     "execution_count": 16,
     "metadata": {},
     "output_type": "execute_result"
    }
   ],
   "source": [
    "from sklearn.svm import LinearSVC\n",
    "from sklearn.pipeline import make_pipeline\n",
    "df['masked_email_text'] = df['body'].apply(lambda x: mask_pii_pci(x)[0])\n",
    "\n",
    "\n",
    "\n",
    "X_train, X_test, y_train, y_test = train_test_split(df['masked_email_text'], df['category'], test_size=0.2, random_state=42)\n",
    "\n",
    "pipeline = make_pipeline(\n",
    "    \n",
    "    TfidfVectorizer(max_features=20000, stop_words='english'),\n",
    "    LinearSVC()\n",
    ")\n",
    "\n",
    "pipeline.fit(X_train, y_train)"
   ]
  },
  {
   "cell_type": "code",
   "execution_count": 17,
   "id": "92309bb1-9408-4a50-a9fd-b04594fe4d79",
   "metadata": {},
   "outputs": [],
   "source": [
    "y_pred = pipeline.predict(X_test)"
   ]
  },
  {
   "cell_type": "code",
   "execution_count": 18,
   "id": "eaf0cb70-166c-486d-b9c9-b9aebfa553f0",
   "metadata": {},
   "outputs": [
    {
     "name": "stdout",
     "output_type": "stream",
     "text": [
      "                     precision    recall  f1-score   support\n",
      "\n",
      " Account Management       0.89      0.81      0.85       189\n",
      "     Billing Issues       0.99      0.86      0.92       218\n",
      "           Feedback       0.91      0.49      0.64        61\n",
      "    General Inquiry       0.95      0.97      0.96      1389\n",
      " Legal & Compliance       0.67      0.40      0.50         5\n",
      "              Other       0.94      0.96      0.95      1417\n",
      "  Product Enquiries       0.92      0.88      0.90       172\n",
      "Shipping & Delivery       0.92      0.50      0.65        22\n",
      "  Technical Support       0.95      0.98      0.96      1327\n",
      "\n",
      "           accuracy                           0.95      4800\n",
      "          macro avg       0.90      0.76      0.81      4800\n",
      "       weighted avg       0.94      0.95      0.94      4800\n",
      "\n"
     ]
    }
   ],
   "source": [
    "from sklearn.metrics import classification_report\n",
    "\n",
    "print(classification_report(y_test, y_pred))\n"
   ]
  },
  {
   "cell_type": "code",
   "execution_count": 19,
   "id": "baa51f0f-42f4-445c-a41b-fb6d29c286b7",
   "metadata": {},
   "outputs": [
    {
     "name": "stdout",
     "output_type": "stream",
     "text": [
      "Testing Accuracy:\n"
     ]
    },
    {
     "data": {
      "text/plain": [
       "0.9452083333333333"
      ]
     },
     "execution_count": 19,
     "metadata": {},
     "output_type": "execute_result"
    }
   ],
   "source": [
    "from sklearn.metrics import accuracy_score\n",
    "print(\"Testing Accuracy:\")\n",
    "accuracy_score(y_pred, y_test)"
   ]
  },
  {
   "cell_type": "markdown",
   "id": "f1979369-a5ec-4860-82af-74e916ab452b",
   "metadata": {},
   "source": [
    "### Lets test using some emails"
   ]
  },
  {
   "cell_type": "code",
   "execution_count": 20,
   "id": "6c2f68b0-d4f8-40c8-aba4-64fa824af035",
   "metadata": {},
   "outputs": [
    {
     "name": "stdout",
     "output_type": "stream",
     "text": [
      "['General Inquiry']\n"
     ]
    }
   ],
   "source": [
    "print(pipeline.predict(pd.Series([\"Hello John, my number is 555-123-4567.\"])))"
   ]
  },
  {
   "cell_type": "code",
   "execution_count": 21,
   "id": "c24106fb-59c9-4eca-997a-0a182bf7b0bd",
   "metadata": {},
   "outputs": [
    {
     "name": "stdout",
     "output_type": "stream",
     "text": [
      "['Account Management']\n"
     ]
    }
   ],
   "source": [
    "print(pipeline.predict(['my name is akshar, i have password related issue']))"
   ]
  },
  {
   "cell_type": "code",
   "execution_count": 22,
   "id": "54808d08-e12a-438c-b5ef-0eb15828d77e",
   "metadata": {},
   "outputs": [
    {
     "data": {
      "text/plain": [
       "('[full_name], my number is [phone_number].',\n",
       " [{'position': [0, 11], 'classification': 'full_name', 'entity': 'Hello John'},\n",
       "  {'position': [26, 40],\n",
       "   'classification': 'phone_number',\n",
       "   'entity': '9947946378'}])"
      ]
     },
     "execution_count": 22,
     "metadata": {},
     "output_type": "execute_result"
    }
   ],
   "source": [
    "mask_pii_pci(\"Hello John, my number is 9947946378.\")"
   ]
  },
  {
   "cell_type": "markdown",
   "id": "6c49b6a5-50dd-4dff-9d7e-e2e84a41cb2f",
   "metadata": {},
   "source": [
    "### Api creation-final step(executing the whole process)"
   ]
  },
  {
   "cell_type": "code",
   "execution_count": 23,
   "id": "e9e1e6d5-0d9a-43f6-ba54-ab753353c86b",
   "metadata": {},
   "outputs": [
    {
     "name": "stdout",
     "output_type": "stream",
     "text": [
      "* Running on local URL:  http://127.0.0.1:7860\n",
      "\n",
      "To create a public link, set `share=True` in `launch()`.\n"
     ]
    },
    {
     "data": {
      "text/html": [
       "<div><iframe src=\"http://127.0.0.1:7860/\" width=\"100%\" height=\"500\" allow=\"autoplay; camera; microphone; clipboard-read; clipboard-write;\" frameborder=\"0\" allowfullscreen></iframe></div>"
      ],
      "text/plain": [
       "<IPython.core.display.HTML object>"
      ]
     },
     "metadata": {},
     "output_type": "display_data"
    },
    {
     "data": {
      "text/plain": []
     },
     "execution_count": 23,
     "metadata": {},
     "output_type": "execute_result"
    }
   ],
   "source": [
    "# using the Gradio Interface API to quickly build and launch a UI for your email classification & PII masking function. \n",
    "# It’s one of the easiest ways to deploy ML models for demo or production, and it’s perfect for Hugging Face Spaces.\n",
    "\n",
    "import gradio as gr\n",
    "import json\n",
    "\n",
    "def parse_input(input_str):\n",
    "    try:\n",
    "        input_data = json.loads(input_str)\n",
    "        return input_data.get(\"input_email_body\", \"\")\n",
    "    except (json.JSONDecodeError, AttributeError):\n",
    "        return input_str  # Treat it as plain text\n",
    "\n",
    "def generate_json_output(Email):\n",
    "    try:\n",
    "        text = parse_input(Email)\n",
    "\n",
    "        if not text.strip():\n",
    "            return json.dumps({\"error\": \"No email content provided.\"}, indent=2)\n",
    "\n",
    "        # Masking step\n",
    "        masked_text, entities = mask_pii_pci(text)\n",
    "\n",
    "        # Prediction step\n",
    "        category = pipeline.predict([masked_text])[0]\n",
    "\n",
    "        output = {\n",
    "            \"input_email_body\": text,\n",
    "            \"list_of_masked_entities\": entities,\n",
    "            \"masked_email\": masked_text,\n",
    "            \"category_of_the_email\": category\n",
    "        }\n",
    "\n",
    "        return json.dumps(output, indent=2)\n",
    "\n",
    "    except Exception as e:\n",
    "        return json.dumps({\"error\": str(e)}, indent=2)\n",
    "\n",
    "          \n",
    "\n",
    "gr.Interface(\n",
    "    fn=generate_json_output,\n",
    "    inputs=gr.Textbox(\n",
    "        lines=12,\n",
    "        label=\"Input Email (Text or JSON)\",\n",
    "        placeholder=(\n",
    "            \"You can input:\\n\"\n",
    "            \"1️⃣ Plain Text: Hi John, contact me at john.doe@example.com or call 123-456-7890.\\n\"\n",
    "            \"2️⃣ JSON: {\\n  \\\"input_email_body\\\": \\\"Hi John, contact me at john.doe@example.com or call 123-456-7890.\\\"\\n}\"\n",
    "        )\n",
    "    ),\n",
    "    outputs=gr.Textbox(label=\"Output (JSON)\"),\n",
    "    title=\"📧 Email Classification and PII Masking\",\n",
    "    description=\"Paste either a plain email body or a JSON with an 'input_email_body'. The system will return masked and classified results.\"\n",
    ").launch()"
   ]
  }
 ],
 "metadata": {
  "kernelspec": {
   "display_name": "Python 3 (ipykernel)",
   "language": "python",
   "name": "python3"
  },
  "language_info": {
   "codemirror_mode": {
    "name": "ipython",
    "version": 3
   },
   "file_extension": ".py",
   "mimetype": "text/x-python",
   "name": "python",
   "nbconvert_exporter": "python",
   "pygments_lexer": "ipython3",
   "version": "3.12.7"
  }
 },
 "nbformat": 4,
 "nbformat_minor": 5
}
